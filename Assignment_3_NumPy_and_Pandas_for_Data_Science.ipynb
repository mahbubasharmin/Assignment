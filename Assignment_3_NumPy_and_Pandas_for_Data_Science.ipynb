{
  "nbformat": 4,
  "nbformat_minor": 0,
  "metadata": {
    "colab": {
      "provenance": [],
      "authorship_tag": "ABX9TyM4y6CO6peWiNEuRlyawqpr",
      "include_colab_link": true
    },
    "kernelspec": {
      "name": "python3",
      "display_name": "Python 3"
    },
    "language_info": {
      "name": "python"
    }
  },
  "cells": [
    {
      "cell_type": "markdown",
      "metadata": {
        "id": "view-in-github",
        "colab_type": "text"
      },
      "source": [
        "<a href=\"https://colab.research.google.com/github/mahbubasharmin/Assignment/blob/main/Assignment_3_NumPy_and_Pandas_for_Data_Science.ipynb\" target=\"_parent\"><img src=\"https://colab.research.google.com/assets/colab-badge.svg\" alt=\"Open In Colab\"/></a>"
      ]
    },
    {
      "cell_type": "code",
      "execution_count": 1,
      "metadata": {
        "id": "BeyNProWGg8c",
        "colab": {
          "base_uri": "https://localhost:8080/"
        },
        "outputId": "fd52ecc1-f80d-4e09-c388-c5f24cd82bcb"
      },
      "outputs": [
        {
          "output_type": "stream",
          "name": "stdout",
          "text": [
            "First 10 rows of the dataset:\n",
            "   gender race/ethnicity parental level of education         lunch  \\\n",
            "0  female        group B           bachelor's degree      standard   \n",
            "1  female        group C                some college      standard   \n",
            "2  female        group B             master's degree      standard   \n",
            "3    male        group A          associate's degree  free/reduced   \n",
            "4    male        group C                some college      standard   \n",
            "\n",
            "  test preparation course  math score  reading score  writing score  \n",
            "0                    none          72             72             74  \n",
            "1               completed          69             90             88  \n",
            "2                    none          90             95             93  \n",
            "3                    none          47             57             44  \n",
            "4                    none          76             78             75  \n",
            "\n",
            "DataFrame Shape: (1000, 8)\n",
            "Column names: ['gender', 'race/ethnicity', 'parental level of education', 'lunch', 'test preparation course', 'math score', 'reading score', 'writing score']\n",
            "\n",
            "Descriptive statistics:\n",
            "       math score  reading score  writing score\n",
            "count  1000.00000    1000.000000    1000.000000\n",
            "mean     66.08900      69.169000      68.054000\n",
            "std      15.16308      14.600192      15.195657\n",
            "min       0.00000      17.000000      10.000000\n",
            "25%      57.00000      59.000000      57.750000\n",
            "50%      66.00000      70.000000      69.000000\n",
            "75%      77.00000      79.000000      79.000000\n",
            "max     100.00000     100.000000     100.000000\n"
          ]
        }
      ],
      "source": [
        "import numpy as np\n",
        "import pandas as pd\n",
        "\n",
        "df = pd.read_csv('/content/StudentsPerformance.csv')\n",
        "print(\"First 10 rows of the dataset:\")\n",
        "print(df.head())\n",
        "print(\"\\nDataFrame Shape:\", df.shape)\n",
        "print(\"Column names:\", df.columns.tolist())\n",
        "\n",
        "print(\"\\nDescriptive statistics:\")\n",
        "print(df.describe())"
      ]
    },
    {
      "cell_type": "code",
      "source": [
        "import numpy as np\n",
        "\n",
        "math_scores = df['math score'].values\n",
        "reading_scores = df['reading score'].values\n",
        "writing_scores = df['writing score'].values\n",
        "\n",
        "print(\"Math - Mean:\", np.mean(math_scores),\n",
        "      \"Median:\", np.median(math_scores),\n",
        "      \"Std:\", np.std(math_scores),\n",
        "      \"Min:\", np.min(math_scores),\n",
        "      \"Max:\", np.max(math_scores))\n",
        "\n",
        "print(\"Reading - Mean:\", np.mean(reading_scores),\n",
        "      \"Median:\", np.median(reading_scores),\n",
        "      \"Std:\", np.std(reading_scores),\n",
        "      \"Min:\", np.min(reading_scores),\n",
        "      \"Max:\", np.max(reading_scores))\n",
        "\n",
        "print(\"Writing - Mean:\", np.mean(writing_scores),\n",
        "      \"Median:\", np.median(writing_scores),\n",
        "      \"Std:\", np.std(writing_scores),\n",
        "      \"Min:\", np.min(writing_scores),\n",
        "      \"Max:\", np.max(writing_scores))\n",
        "\n",
        "above_80_math = np.sum(math_scores > 80)\n",
        "print(\"Students with math > 80:\", above_80_math)\n",
        "\n",
        "below_50_any = np.sum((math_scores < 50) | (reading_scores < 50) | (writing_scores < 50))\n",
        "print(\"Students with any score < 50:\", below_50_any)\n",
        "\n",
        "overall_avg = np.mean((math_scores + reading_scores + writing_scores) / 3)\n",
        "print(\"Overall average score across all subjects:\", overall_avg)"
      ],
      "metadata": {
        "id": "Gpep3yxvLzDQ",
        "colab": {
          "base_uri": "https://localhost:8080/"
        },
        "outputId": "daa8acac-de5d-4159-fc1a-7eb5f945bc03"
      },
      "execution_count": 2,
      "outputs": [
        {
          "output_type": "stream",
          "name": "stdout",
          "text": [
            "Math - Mean: 66.089 Median: 66.0 Std: 15.155496659628149 Min: 0 Max: 100\n",
            "Reading - Mean: 69.169 Median: 70.0 Std: 14.592890015346516 Min: 17 Max: 100\n",
            "Writing - Mean: 68.054 Median: 69.0 Std: 15.188057281956768 Min: 10 Max: 100\n",
            "Students with math > 80: 176\n",
            "Students with any score < 50: 188\n",
            "Overall average score across all subjects: 67.77066666666666\n"
          ]
        }
      ]
    },
    {
      "cell_type": "code",
      "source": [
        "print(\"\\nMissing Values:\\n\", df.isnull().sum())\n",
        "\n",
        "print(\"\\nInvalid Scores:\",\n",
        "      ((df['math score']<0)|(df['math score']>100)).sum(),\n",
        "      ((df['reading score']<0)|(df['reading score']>100)).sum(),\n",
        "      ((df['writing score']<0)|(df['writing score']>100)).sum())"
      ],
      "metadata": {
        "id": "YKTo9gQlLzFX",
        "colab": {
          "base_uri": "https://localhost:8080/"
        },
        "outputId": "4574eb4b-9097-461f-838e-96462c1474d1"
      },
      "execution_count": 3,
      "outputs": [
        {
          "output_type": "stream",
          "name": "stdout",
          "text": [
            "\n",
            "Missing Values:\n",
            " gender                         0\n",
            "race/ethnicity                 0\n",
            "parental level of education    0\n",
            "lunch                          0\n",
            "test preparation course        0\n",
            "math score                     0\n",
            "reading score                  0\n",
            "writing score                  0\n",
            "dtype: int64\n",
            "\n",
            "Invalid Scores: 0 0 0\n"
          ]
        }
      ]
    },
    {
      "cell_type": "code",
      "source": [
        "import numpy as np\n",
        "import pandas as pd\n",
        "\n",
        "df_practice = df.copy()\n",
        "print(\"Original missing values:\")\n",
        "print(df_practice.isnull().sum())\n",
        "\n",
        "np.random.seed(42)\n",
        "missing_math_idx = np.random.choice(df_practice.index, 50, replace=False)\n",
        "missing_writing_idx = np.random.choice(df_practice.index, 30, replace=False)\n",
        "\n",
        "df_practice.loc[missing_math_idx, \"math score\"] = np.nan\n",
        "df_practice.loc[missing_writing_idx, \"writing score\"] = np.nan\n",
        "\n",
        "print(\"\\nMissing values after introducing NaNs:\")\n",
        "print(df_practice.isnull().sum())\n",
        "\n",
        "median_math = df_practice[\"math score\"].median()\n",
        "mean_writing = df_practice[\"writing score\"].mean()\n",
        "\n",
        "df_practice[\"math score\"] = df_practice[\"math score\"].fillna(median_math)\n",
        "df_practice[\"writing score\"] = df_practice[\"writing score\"].fillna(mean_writing)\n",
        "\n",
        "print(\"\\nMissing values after fixing:\")\n",
        "print(df_practice.isnull().sum())\n",
        "\n",
        "print(\"\\nMedian used for math:\", median_math)\n",
        "print(\"Mean used for writing:\", mean_writing)\n"
      ],
      "metadata": {
        "id": "2d3Z15-bLzHv",
        "colab": {
          "base_uri": "https://localhost:8080/"
        },
        "outputId": "1975f022-b8de-4b6f-8b38-8fa44ffc7229"
      },
      "execution_count": 4,
      "outputs": [
        {
          "output_type": "stream",
          "name": "stdout",
          "text": [
            "Original missing values:\n",
            "gender                         0\n",
            "race/ethnicity                 0\n",
            "parental level of education    0\n",
            "lunch                          0\n",
            "test preparation course        0\n",
            "math score                     0\n",
            "reading score                  0\n",
            "writing score                  0\n",
            "dtype: int64\n",
            "\n",
            "Missing values after introducing NaNs:\n",
            "gender                          0\n",
            "race/ethnicity                  0\n",
            "parental level of education     0\n",
            "lunch                           0\n",
            "test preparation course         0\n",
            "math score                     50\n",
            "reading score                   0\n",
            "writing score                  30\n",
            "dtype: int64\n",
            "\n",
            "Missing values after fixing:\n",
            "gender                         0\n",
            "race/ethnicity                 0\n",
            "parental level of education    0\n",
            "lunch                          0\n",
            "test preparation course        0\n",
            "math score                     0\n",
            "reading score                  0\n",
            "writing score                  0\n",
            "dtype: int64\n",
            "\n",
            "Median used for math: 66.0\n",
            "Mean used for writing: 67.90824742268042\n"
          ]
        }
      ]
    },
    {
      "cell_type": "code",
      "source": [
        "print(\"First 5 rows:\")\n",
        "print(df.head())\n",
        "\n",
        "print(\"\\nLast 5 rows:\")\n",
        "print(df.tail())\n",
        "\n",
        "print(\"\\nDataset shape (rows, columns):\")\n",
        "print(df.shape)\n",
        "\n",
        "print(\"\\nColumn names:\")\n",
        "print(df.columns)\n",
        "\n",
        "print(\"\\nData types:\")\n",
        "print(df.dtypes)\n",
        "\n",
        "print(\"\\nDataset info:\")\n",
        "print(df.info())\n"
      ],
      "metadata": {
        "id": "WgmDK9MdLzJ3",
        "colab": {
          "base_uri": "https://localhost:8080/"
        },
        "outputId": "70bae55b-6fa4-4095-afe1-0c036d1cb9dc"
      },
      "execution_count": 5,
      "outputs": [
        {
          "output_type": "stream",
          "name": "stdout",
          "text": [
            "First 5 rows:\n",
            "   gender race/ethnicity parental level of education         lunch  \\\n",
            "0  female        group B           bachelor's degree      standard   \n",
            "1  female        group C                some college      standard   \n",
            "2  female        group B             master's degree      standard   \n",
            "3    male        group A          associate's degree  free/reduced   \n",
            "4    male        group C                some college      standard   \n",
            "\n",
            "  test preparation course  math score  reading score  writing score  \n",
            "0                    none          72             72             74  \n",
            "1               completed          69             90             88  \n",
            "2                    none          90             95             93  \n",
            "3                    none          47             57             44  \n",
            "4                    none          76             78             75  \n",
            "\n",
            "Last 5 rows:\n",
            "     gender race/ethnicity parental level of education         lunch  \\\n",
            "995  female        group E             master's degree      standard   \n",
            "996    male        group C                 high school  free/reduced   \n",
            "997  female        group C                 high school  free/reduced   \n",
            "998  female        group D                some college      standard   \n",
            "999  female        group D                some college  free/reduced   \n",
            "\n",
            "    test preparation course  math score  reading score  writing score  \n",
            "995               completed          88             99             95  \n",
            "996                    none          62             55             55  \n",
            "997               completed          59             71             65  \n",
            "998               completed          68             78             77  \n",
            "999                    none          77             86             86  \n",
            "\n",
            "Dataset shape (rows, columns):\n",
            "(1000, 8)\n",
            "\n",
            "Column names:\n",
            "Index(['gender', 'race/ethnicity', 'parental level of education', 'lunch',\n",
            "       'test preparation course', 'math score', 'reading score',\n",
            "       'writing score'],\n",
            "      dtype='object')\n",
            "\n",
            "Data types:\n",
            "gender                         object\n",
            "race/ethnicity                 object\n",
            "parental level of education    object\n",
            "lunch                          object\n",
            "test preparation course        object\n",
            "math score                      int64\n",
            "reading score                   int64\n",
            "writing score                   int64\n",
            "dtype: object\n",
            "\n",
            "Dataset info:\n",
            "<class 'pandas.core.frame.DataFrame'>\n",
            "RangeIndex: 1000 entries, 0 to 999\n",
            "Data columns (total 8 columns):\n",
            " #   Column                       Non-Null Count  Dtype \n",
            "---  ------                       --------------  ----- \n",
            " 0   gender                       1000 non-null   object\n",
            " 1   race/ethnicity               1000 non-null   object\n",
            " 2   parental level of education  1000 non-null   object\n",
            " 3   lunch                        1000 non-null   object\n",
            " 4   test preparation course      1000 non-null   object\n",
            " 5   math score                   1000 non-null   int64 \n",
            " 6   reading score                1000 non-null   int64 \n",
            " 7   writing score                1000 non-null   int64 \n",
            "dtypes: int64(3), object(5)\n",
            "memory usage: 62.6+ KB\n",
            "None\n"
          ]
        }
      ]
    },
    {
      "cell_type": "code",
      "source": [],
      "metadata": {
        "id": "yjFZgRosLzNW"
      },
      "execution_count": null,
      "outputs": []
    }
  ]
}