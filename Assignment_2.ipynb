{
  "nbformat": 4,
  "nbformat_minor": 0,
  "metadata": {
    "colab": {
      "provenance": [],
      "authorship_tag": "ABX9TyPA+UbWwnfUVLAFn5a1Aw9b",
      "include_colab_link": true
    },
    "kernelspec": {
      "name": "python3",
      "display_name": "Python 3"
    },
    "language_info": {
      "name": "python"
    }
  },
  "cells": [
    {
      "cell_type": "markdown",
      "metadata": {
        "id": "view-in-github",
        "colab_type": "text"
      },
      "source": [
        "<a href=\"https://colab.research.google.com/github/mahbubasharmin/Assignment/blob/main/Assignment_2.ipynb\" target=\"_parent\"><img src=\"https://colab.research.google.com/assets/colab-badge.svg\" alt=\"Open In Colab\"/></a>"
      ]
    },
    {
      "cell_type": "code",
      "execution_count": 1,
      "metadata": {
        "colab": {
          "base_uri": "https://localhost:8080/"
        },
        "id": "6YC8iONT8ncC",
        "outputId": "89d56e24-b8f9-4918-c3d7-98704e640f57"
      },
      "outputs": [
        {
          "output_type": "stream",
          "name": "stdout",
          "text": [
            "Wlcome to Skill Morph!!\n"
          ]
        }
      ],
      "source": [
        "print('Wlcome to Skill Morph!!')"
      ]
    },
    {
      "cell_type": "code",
      "source": [
        "My_Name = \"Mahbuba\"\n",
        "age = 22\n",
        "favorite_color = \"Black & Blue\"\n",
        "print(\"Name:\", My_Name)\n",
        "print(\"Age:\", age)\n",
        "print(\"Favorite_color: \",favorite_color)"
      ],
      "metadata": {
        "colab": {
          "base_uri": "https://localhost:8080/"
        },
        "id": "l4EMnHJOUTFD",
        "outputId": "6c3d2a00-5e2c-44dd-94f9-a9ec347c0909"
      },
      "execution_count": 2,
      "outputs": [
        {
          "output_type": "stream",
          "name": "stdout",
          "text": [
            "Name: Mahbuba\n",
            "Age: 22\n",
            "Favorite_color:  Black & Blue\n"
          ]
        }
      ]
    },
    {
      "cell_type": "code",
      "source": [
        "name = \"Tasnim\"\n",
        "address = 'Dhaka'\n",
        "age = 25\n",
        "price = 99.99\n",
        "is_valid = True\n",
        "has_paid = False\n",
        "result = None\n",
        "print(type(name))\n",
        "print(type(age))\n",
        "print(type(price))\n",
        "print(type(is_valid))"
      ],
      "metadata": {
        "colab": {
          "base_uri": "https://localhost:8080/"
        },
        "id": "GX4sRoCyUTQR",
        "outputId": "f4ccedfa-612b-44fd-fb67-cd84b85d78c0"
      },
      "execution_count": 3,
      "outputs": [
        {
          "output_type": "stream",
          "name": "stdout",
          "text": [
            "<class 'str'>\n",
            "<class 'int'>\n",
            "<class 'float'>\n",
            "<class 'bool'>\n"
          ]
        }
      ]
    },
    {
      "cell_type": "code",
      "source": [
        "x=7\n",
        "y=5\n",
        "print(x*y)\n",
        "print(2*(x+y))"
      ],
      "metadata": {
        "colab": {
          "base_uri": "https://localhost:8080/"
        },
        "id": "eR5U9nCHUTS6",
        "outputId": "2289b686-d8cc-43e0-ddbc-36819a8878a7"
      },
      "execution_count": 4,
      "outputs": [
        {
          "output_type": "stream",
          "name": "stdout",
          "text": [
            "35\n",
            "24\n"
          ]
        }
      ]
    },
    {
      "cell_type": "code",
      "source": [
        "fruits = [\"apple\", \"banana\", \"orange\", \"mango\",\"pineapple\"]\n",
        "print(fruits[0])\n",
        "print(fruits[-1])\n",
        "print(fruits[2:5])\n",
        "print(fruits)"
      ],
      "metadata": {
        "colab": {
          "base_uri": "https://localhost:8080/"
        },
        "id": "RvTABYAdUTVY",
        "outputId": "50095ea3-7807-46d2-b8d8-ca39287dba4b"
      },
      "execution_count": 5,
      "outputs": [
        {
          "output_type": "stream",
          "name": "stdout",
          "text": [
            "apple\n",
            "pineapple\n",
            "['orange', 'mango', 'pineapple']\n",
            "['apple', 'banana', 'orange', 'mango', 'pineapple']\n"
          ]
        }
      ]
    },
    {
      "cell_type": "code",
      "source": [
        "fruits = [\"apple\", \"banana\",\"pineapple\"]\n",
        "fruits.append(\"orange\")\n",
        "fruits.insert(3,\"mango\")\n",
        "fruits.remove(\"pineapple\")\n",
        "print(fruits)"
      ],
      "metadata": {
        "colab": {
          "base_uri": "https://localhost:8080/"
        },
        "id": "nou7yw0GUTXz",
        "outputId": "f3e6acbd-c6bb-4f5a-cd23-d58c6f4d73ab"
      },
      "execution_count": 6,
      "outputs": [
        {
          "output_type": "stream",
          "name": "stdout",
          "text": [
            "['apple', 'banana', 'mango', 'orange']\n"
          ]
        }
      ]
    },
    {
      "cell_type": "code",
      "source": [
        "myself = {\n",
        "    \"name\": \"Mahbuba Sharmin\",\n",
        "    \"age\": 22,\n",
        "    \"university\": \"BAUST,Saidpur\",\n",
        "    \"hobby\": \"nothing\"\n",
        "}\n",
        "print(myself[\"name\"])\n",
        "print(myself[\"university\"])\n",
        "myself[\"phone\"]=\"12345678901\"\n",
        "myself[\"age\"]=22"
      ],
      "metadata": {
        "colab": {
          "base_uri": "https://localhost:8080/"
        },
        "id": "miuTQclZUTZ9",
        "outputId": "a9f4fae1-1032-4ec7-9e24-9f0684cb3660"
      },
      "execution_count": 7,
      "outputs": [
        {
          "output_type": "stream",
          "name": "stdout",
          "text": [
            "Mahbuba Sharmin\n",
            "BAUST,Saidpur\n"
          ]
        }
      ]
    },
    {
      "cell_type": "code",
      "source": [
        "coordinates = (10.5, 20.8)\n",
        "rgb_color = (255, 0, 128)\n",
        "\n",
        "print(coordinates[0]) # 10.5\n",
        "print(rgb_color[2]) # 128\n",
        "print(len(rgb_color)) # 3"
      ],
      "metadata": {
        "colab": {
          "base_uri": "https://localhost:8080/"
        },
        "id": "fiYWaCdpUTcg",
        "outputId": "58892681-8c22-4fc9-9222-c01191a40560"
      },
      "execution_count": 8,
      "outputs": [
        {
          "output_type": "stream",
          "name": "stdout",
          "text": [
            "10.5\n",
            "128\n",
            "3\n"
          ]
        }
      ]
    },
    {
      "cell_type": "code",
      "source": [
        "set_a = {\"red\", \"green\", \"blue\"}\n",
        "set_b = {\"yellow\", \"blue\", \"black\"}\n",
        "\n",
        "print(\"Union:\", set_a | set_b)\n",
        "print(\"Intersection:\", set_a & set_b)"
      ],
      "metadata": {
        "colab": {
          "base_uri": "https://localhost:8080/"
        },
        "id": "MDRvuZMcUTfG",
        "outputId": "a5d38d9b-cb19-4e59-aa01-8bb9dbdb5962"
      },
      "execution_count": 9,
      "outputs": [
        {
          "output_type": "stream",
          "name": "stdout",
          "text": [
            "Union: {'blue', 'green', 'yellow', 'black', 'red'}\n",
            "Intersection: {'blue'}\n"
          ]
        }
      ]
    },
    {
      "cell_type": "code",
      "source": [
        "warm_colors = {\"red\", \"orange\", \"yellow\"}\n",
        "cool_colors = {\"blue\", \"purple\", \"green\",\"yellow\"}\n",
        "\n",
        "print(warm_colors)\n",
        "\n",
        "all_colors = warm_colors | cool_colors\n",
        "common_colors = warm_colors & cool_colors\n",
        "\n",
        "print(all_colors)\n",
        "print(common_colors)"
      ],
      "metadata": {
        "colab": {
          "base_uri": "https://localhost:8080/"
        },
        "id": "gvUTKezcUTie",
        "outputId": "544b9ae6-9cc6-47b8-ad10-bbc04c8e2dd3"
      },
      "execution_count": 10,
      "outputs": [
        {
          "output_type": "stream",
          "name": "stdout",
          "text": [
            "{'red', 'yellow', 'orange'}\n",
            "{'blue', 'purple', 'green', 'yellow', 'red', 'orange'}\n",
            "{'yellow'}\n"
          ]
        }
      ]
    },
    {
      "cell_type": "code",
      "source": [
        "number=int (input(\"Enter a number:\"))\n",
        "if number > 0:\n",
        "    print(\"Positive\")\n",
        "elif number < 0:\n",
        "    print(\"Negative\")\n",
        "else:\n",
        "    print(\"Zero\")"
      ],
      "metadata": {
        "colab": {
          "base_uri": "https://localhost:8080/"
        },
        "id": "ZBbPZzkIUmg3",
        "outputId": "8295298d-c8e5-4326-a100-89e14c57242d"
      },
      "execution_count": 11,
      "outputs": [
        {
          "output_type": "stream",
          "name": "stdout",
          "text": [
            "Enter a number:0\n",
            "Zero\n"
          ]
        }
      ]
    },
    {
      "cell_type": "code",
      "source": [
        "rows = 5\n",
        "for i in range(rows):\n",
        "    for j in range(i+1):\n",
        "        print(\"* \", end=\"\")\n",
        "    print()\n",
        ""
      ],
      "metadata": {
        "colab": {
          "base_uri": "https://localhost:8080/"
        },
        "id": "OEGqSVubUopD",
        "outputId": "de3ff6b0-0807-4839-e97b-6b07dc4a9e49"
      },
      "execution_count": 12,
      "outputs": [
        {
          "output_type": "stream",
          "name": "stdout",
          "text": [
            "* \n",
            "* * \n",
            "* * * \n",
            "* * * * \n",
            "* * * * * \n"
          ]
        }
      ]
    },
    {
      "cell_type": "code",
      "source": [
        "def celsius_to_fahrenheit(celsius):\n",
        "    return (celsius * 9/5) + 32\n",
        "print(celsius_to_fahrenheit(25))"
      ],
      "metadata": {
        "colab": {
          "base_uri": "https://localhost:8080/"
        },
        "id": "eEUTR8aKUorK",
        "outputId": "e3a341bc-3365-4a4a-dfc7-52f045bfcced"
      },
      "execution_count": 13,
      "outputs": [
        {
          "output_type": "stream",
          "name": "stdout",
          "text": [
            "77.0\n"
          ]
        }
      ]
    },
    {
      "cell_type": "code",
      "source": [
        "def rectangle_area(length=8, width=3):\n",
        "    return length * width\n",
        "\n",
        "print(rectangle_area())"
      ],
      "metadata": {
        "colab": {
          "base_uri": "https://localhost:8080/"
        },
        "id": "7a9G5bz3Uouw",
        "outputId": "0b4df169-ca85-4175-aacc-6c3a742f9bf7"
      },
      "execution_count": 14,
      "outputs": [
        {
          "output_type": "stream",
          "name": "stdout",
          "text": [
            "24\n"
          ]
        }
      ]
    }
  ]
}