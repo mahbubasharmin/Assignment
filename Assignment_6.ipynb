{
  "nbformat": 4,
  "nbformat_minor": 0,
  "metadata": {
    "colab": {
      "provenance": [],
      "authorship_tag": "ABX9TyOdGb2wrn8Aq38lea7SOk+K",
      "include_colab_link": true
    },
    "kernelspec": {
      "name": "python3",
      "display_name": "Python 3"
    },
    "language_info": {
      "name": "python"
    }
  },
  "cells": [
    {
      "cell_type": "markdown",
      "metadata": {
        "id": "view-in-github",
        "colab_type": "text"
      },
      "source": [
        "<a href=\"https://colab.research.google.com/github/mahbubasharmin/Assignment/blob/main/Assignment_6.ipynb\" target=\"_parent\"><img src=\"https://colab.research.google.com/assets/colab-badge.svg\" alt=\"Open In Colab\"/></a>"
      ]
    },
    {
      "cell_type": "code",
      "source": [
        "import pandas as pd\n",
        "import numpy as np\n",
        "from sklearn.tree import DecisionTreeClassifier\n",
        "from sklearn.model_selection import train_test_split  # Import train_test_split\n",
        "from google.colab import drive\n",
        "drive.mount('/content/drive')\n",
        "import warnings\n",
        "warnings.filterwarnings('ignore')\n",
        "data = pd.read_csv('/content/drive/MyDrive/Datasets/Breast_Cancer_Wisconsin_Dataset.csv')\n",
        "print(\"Computers only understand numbers, not letters!\")\n",
        "print(\"Converting M → 1 (Malignant Cancer) and B → 0 (Benign Cancer)\")\n",
        "\n",
        "# Convert diagnosis to numbers\n",
        "data['diagnosis_numeric'] = data['diagnosis'].map({'M': 1, 'B': 0})\n",
        "print(\"Conversion completed!\")\n",
        "\n",
        "# Select only the most important features (make it simple!)\n",
        "important_features = [\n",
        "    'radius_mean',\n",
        "    'perimeter_mean',\n",
        "    'texture_mean',\n",
        "    'area_mean',\n",
        "    'smoothness_mean',\n",
        "    'compactness_mean',\n",
        "    'concavity_mean',\n",
        "    'symmetry_mean',\n",
        "    'fractal_dimension_mean'\n",
        "]\n",
        "# Create simple dataset\n",
        "X = data[important_features]  # Patient measurements\n",
        "y = data['diagnosis_numeric']  # Malignant (1) or Benign (0)\n",
        "\n",
        "print(f\"\\nData prepared:\")\n",
        "print(f\"X (measurements): {X.shape}\")\n",
        "print(f\"y (diagnosis): {y.shape}\")\n",
        "\n",
        "X_train, X_test, y_train, y_test = train_test_split(\n",
        "    X, y, test_size=0.2, random_state=20\n",
        ")\n",
        "\n",
        "print(\"Question 1: Find the Best Tree Depth\")\n",
        "from sklearn.tree import DecisionTreeClassifier\n",
        "\n",
        "best_depth = None\n",
        "best_accuracy = 0\n",
        "\n",
        "for depth in [2, 3, 4, 5]:\n",
        "    doctor = DecisionTreeClassifier(max_depth=depth, random_state=20)\n",
        "    doctor.fit(X_train, y_train)\n",
        "    acc = doctor.score(X_test, y_test)\n",
        "    print(f\"Depth {depth}: Accuracy = {acc:.3f} ({acc*100:.1f}%)\")\n",
        "\n",
        "    if acc > best_accuracy:\n",
        "        best_accuracy = acc\n",
        "        best_depth = depth\n",
        "\n",
        "print(f\"\\n✅ Best depth = {best_depth} with Accuracy = {best_accuracy:.3f} ({best_accuracy*100:.1f}%)\")"
      ],
      "metadata": {
        "id": "GFrhRKuhcoel",
        "colab": {
          "base_uri": "https://localhost:8080/"
        },
        "outputId": "8b1216a9-b57d-4c45-9252-a2690b7dbfa3"
      },
      "execution_count": 11,
      "outputs": [
        {
          "output_type": "stream",
          "name": "stdout",
          "text": [
            "Drive already mounted at /content/drive; to attempt to forcibly remount, call drive.mount(\"/content/drive\", force_remount=True).\n",
            "Computers only understand numbers, not letters!\n",
            "Converting M → 1 (Malignant Cancer) and B → 0 (Benign Cancer)\n",
            "Conversion completed!\n",
            "\n",
            "Data prepared:\n",
            "X (measurements): (569, 9)\n",
            "y (diagnosis): (569,)\n",
            "Question 1: Find the Best Tree Depth\n",
            "Depth 2: Accuracy = 0.947 (94.7%)\n",
            "Depth 3: Accuracy = 0.939 (93.9%)\n",
            "Depth 4: Accuracy = 0.947 (94.7%)\n",
            "Depth 5: Accuracy = 0.939 (93.9%)\n",
            "\n",
            "✅ Best depth = 2 with Accuracy = 0.947 (94.7%)\n"
          ]
        }
      ]
    },
    {
      "cell_type": "code",
      "source": [
        "#Question 2: Calculate All Metrics\n",
        "#Task: Use best depth to calculate precision, recall, F1-score\n",
        "from sklearn.metrics import (\n",
        "    precision_score, recall_score, f1_score,\n",
        ")\n",
        "skillmorph_doctor = DecisionTreeClassifier(\n",
        "    max_depth=4,\n",
        "    random_state=20\n",
        ")\n",
        "skillmorph_doctor.fit(X_train, y_train)\n",
        "predictions=skillmorph_doctor.predict(X_test)\n",
        "# Calculate detailed metrics\n",
        "precision = precision_score(y_test, predictions)\n",
        "recall = recall_score(y_test, predictions)\n",
        "f1 = f1_score(y_test, predictions)\n",
        "\n",
        "print(f'Precision: {precision:.3f}')\n",
        "print(f'Recall: {recall:.3f}')\n",
        "print(f'F1-Score: {f1:.3f}')"
      ],
      "metadata": {
        "id": "LNFG_xQxcohK",
        "colab": {
          "base_uri": "https://localhost:8080/"
        },
        "outputId": "e4cd7a1b-241c-44e9-8c66-7fd007d9fe3c"
      },
      "execution_count": 18,
      "outputs": [
        {
          "output_type": "stream",
          "name": "stdout",
          "text": [
            "Precision: 0.938\n",
            "Recall: 0.938\n",
            "F1-Score: 0.938\n"
          ]
        }
      ]
    },
    {
      "cell_type": "code",
      "source": [
        "#Question 3: Test on New Patients\n",
        "new_patients = [\n",
        "    [14.5, 18.2, 600, 0.09, 0.10,0,0,0,0],   # possibly malignant\n",
        "    [10.2, 12.5, 300, 0.08, 0.07,0,0,0,0],   # likely benign\n",
        "    [17.8, 21.3, 1000, 0.11, 0.14,0,0,0,0],  # high-risk case\n",
        "]\n",
        "new_patients_df=pd.DataFrame(new_patients)\n",
        "new_patients_df.columns=important_features\n",
        "predictions=skillmorph_doctor.predict(new_patients_df)\n",
        "print(\"New_patients\")\n",
        "print(new_patients_df)"
      ],
      "metadata": {
        "id": "K22i2o7gcojW",
        "colab": {
          "base_uri": "https://localhost:8080/"
        },
        "outputId": "ad5d4719-dd77-46aa-9a89-04006845c37e"
      },
      "execution_count": 29,
      "outputs": [
        {
          "output_type": "stream",
          "name": "stdout",
          "text": [
            "New_patients\n",
            "   radius_mean  perimeter_mean  texture_mean  area_mean  smoothness_mean  \\\n",
            "0         14.5            18.2           600       0.09             0.10   \n",
            "1         10.2            12.5           300       0.08             0.07   \n",
            "2         17.8            21.3          1000       0.11             0.14   \n",
            "\n",
            "   compactness_mean  concavity_mean  symmetry_mean  fractal_dimension_mean  \n",
            "0                 0               0              0                       0  \n",
            "1                 0               0              0                       0  \n",
            "2                 0               0              0                       0  \n"
          ]
        }
      ]
    },
    {
      "cell_type": "code",
      "source": [
        "#Question 4: Analyze Confusion Matrix\n",
        "# Calculate confusion matrix\n",
        "from sklearn.metrics import confusion_matrix\n",
        "import matplotlib.pyplot as plt\n",
        "import seaborn as sns\n",
        "\n",
        "print(\"Confusion Matrix (Mistake Analysis):\")\n",
        "cm = confusion_matrix(y_test,predictions)\n",
        "plt.figure(figsize=(8,6))\n",
        "sns.heatmap(cm, annot=True, fmt='d', cmap='Blues')\n",
        "plt.title(\"Confusion Matrix\")\n",
        "plt.xlabel(\"Predicted Label\")\n",
        "plt.ylabel(\"True Label\")\n",
        "plt.show()"
      ],
      "metadata": {
        "id": "q8XwVoqTcomF",
        "colab": {
          "base_uri": "https://localhost:8080/",
          "height": 581
        },
        "outputId": "9a36b888-961d-43d6-bc79-82f7268f80e7"
      },
      "execution_count": 20,
      "outputs": [
        {
          "output_type": "stream",
          "name": "stdout",
          "text": [
            "Confusion Matrix (Mistake Analysis):\n"
          ]
        },
        {
          "output_type": "display_data",
          "data": {
            "text/plain": [
              "<Figure size 800x600 with 2 Axes>"
            ],
            "image/png": "[encoded data removed]"
          },
          "metadata": {}
        }
      ]
    },
    {
      "cell_type": "code",
      "source": [],
      "metadata": {
        "id": "EJ99GRamcopp"
      },
      "execution_count": null,
      "outputs": []
    }
  ]
}