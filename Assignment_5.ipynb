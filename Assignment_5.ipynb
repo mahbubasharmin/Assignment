{
  "nbformat": 4,
  "nbformat_minor": 0,
  "metadata": {
    "colab": {
      "provenance": [],
      "authorship_tag": "ABX9TyMT+clE2vhK1zu8kvtqF+b9",
      "include_colab_link": true
    },
    "kernelspec": {
      "name": "python3",
      "display_name": "Python 3"
    },
    "language_info": {
      "name": "python"
    }
  },
  "cells": [
    {
      "cell_type": "markdown",
      "metadata": {
        "id": "view-in-github",
        "colab_type": "text"
      },
      "source": [
        "<a href=\"https://colab.research.google.com/github/mahbubasharmin/Assignment/blob/main/Assignment_5.ipynb\" target=\"_parent\"><img src=\"https://colab.research.google.com/assets/colab-badge.svg\" alt=\"Open In Colab\"/></a>"
      ]
    },
    {
      "cell_type": "code",
      "execution_count": 5,
      "metadata": {
        "id": "cwd-dSHbfdO3"
      },
      "outputs": [],
      "source": [
        "import pandas as pd\n",
        "import numpy as np\n",
        "import matplotlib.pyplot as plt\n",
        "import seaborn as sns\n",
        "from sklearn.model_selection import train_test_split, cross_val_score\n",
        "from sklearn.preprocessing import StandardScaler, MinMaxScaler\n",
        "from sklearn.linear_model import LogisticRegression\n",
        "from sklearn.metrics import accuracy_score, classification_report"
      ]
    },
    {
      "cell_type": "code",
      "source": [
        "#Load the Data\n",
        "import pandas as pd\n",
        "import numpy as np\n",
        "from sklearn.model_selection import train_test_split\n",
        "from sklearn.preprocessing import StandardScaler\n",
        "\n",
        "from google.colab import drive\n",
        "drive.mount('/content/drive')\n"
      ],
      "metadata": {
        "colab": {
          "base_uri": "https://localhost:8080/"
        },
        "id": "S2tSsdiD04d4",
        "outputId": "80ddd595-f9aa-47ce-f2cf-17ba82c97462"
      },
      "execution_count": 6,
      "outputs": [
        {
          "output_type": "stream",
          "name": "stdout",
          "text": [
            "Mounted at /content/drive\n"
          ]
        }
      ]
    },
    {
      "cell_type": "code",
      "source": [
        "#Load the housing data\n",
        "df = pd.read_csv('/content/drive/MyDrive/Datasets/Housing.csv')\n",
        "\n",
        "# TODO: How many houses are there?\n",
        "print('Number of houses: ',df.shape)\n",
        "\n",
        "\n",
        "# TODO: Show first 3 houses\n",
        "print('First 3 houses: ')\n",
        "print(df.head(3))"
      ],
      "metadata": {
        "colab": {
          "base_uri": "https://localhost:8080/"
        },
        "id": "Ka3rL28b04gc",
        "outputId": "f8a992d0-bc2b-4f6c-987d-ecc7842f315a"
      },
      "execution_count": 7,
      "outputs": [
        {
          "output_type": "stream",
          "name": "stdout",
          "text": [
            "Number of houses:  (545, 13)\n",
            "First 3 houses: \n",
            "      price  area  bedrooms  bathrooms  stories mainroad guestroom basement  \\\n",
            "0  13300000  7420         4          2        3      yes        no       no   \n",
            "1  12250000  8960         4          4        4      yes        no       no   \n",
            "2  12250000  9960         3          2        2      yes        no      yes   \n",
            "\n",
            "  hotwaterheating airconditioning  parking prefarea furnishingstatus  \n",
            "0              no             yes        2      yes        furnished  \n",
            "1              no             yes        3       no        furnished  \n",
            "2              no              no        2      yes   semi-furnished  \n"
          ]
        }
      ]
    },
    {
      "cell_type": "code",
      "source": [
        "# Look at Columns\n",
        "# TODO: Show all column names\n",
        "print(\"Columns:\",df.columns)\n",
        "print('\\n')\n",
        "# TODO: Show data types of columns\n",
        "print(\"Data types:\\n\",df.dtypes)"
      ],
      "metadata": {
        "colab": {
          "base_uri": "https://localhost:8080/"
        },
        "id": "bvWwgh1v04jD",
        "outputId": "83c33296-c833-4ff1-ef81-e36b0aaecc32"
      },
      "execution_count": 8,
      "outputs": [
        {
          "output_type": "stream",
          "name": "stdout",
          "text": [
            "Columns: Index(['price', 'area', 'bedrooms', 'bathrooms', 'stories', 'mainroad',\n",
            "       'guestroom', 'basement', 'hotwaterheating', 'airconditioning',\n",
            "       'parking', 'prefarea', 'furnishingstatus'],\n",
            "      dtype='object')\n",
            "\n",
            "\n",
            "Data types:\n",
            " price                int64\n",
            "area                 int64\n",
            "bedrooms             int64\n",
            "bathrooms            int64\n",
            "stories              int64\n",
            "mainroad            object\n",
            "guestroom           object\n",
            "basement            object\n",
            "hotwaterheating     object\n",
            "airconditioning     object\n",
            "parking              int64\n",
            "prefarea            object\n",
            "furnishingstatus    object\n",
            "dtype: object\n"
          ]
        }
      ]
    },
    {
      "cell_type": "code",
      "source": [
        "# Check what's in our data\n",
        "print(\"Current mainroad values:\", df['mainroad'].head())\n",
        "# Shows: yes, no, yes, yes, no\n",
        "yes_no_dict={'yes':1,'no':0}\n",
        "df['mainroad']=df['mainroad'].map(yes_no_dict)\n",
        "print('New mainroad values:',df.head())"
      ],
      "metadata": {
        "colab": {
          "base_uri": "https://localhost:8080/"
        },
        "id": "BteEsow704l0",
        "outputId": "8289e915-98e6-447f-ce12-6c40bb69a563"
      },
      "execution_count": 9,
      "outputs": [
        {
          "output_type": "stream",
          "name": "stdout",
          "text": [
            "Current mainroad values: 0    yes\n",
            "1    yes\n",
            "2    yes\n",
            "3    yes\n",
            "4    yes\n",
            "Name: mainroad, dtype: object\n",
            "New mainroad values:       price  area  bedrooms  bathrooms  stories  mainroad guestroom basement  \\\n",
            "0  13300000  7420         4          2        3         1        no       no   \n",
            "1  12250000  8960         4          4        4         1        no       no   \n",
            "2  12250000  9960         3          2        2         1        no      yes   \n",
            "3  12215000  7500         4          2        2         1        no      yes   \n",
            "4  11410000  7420         4          1        2         1       yes      yes   \n",
            "\n",
            "  hotwaterheating airconditioning  parking prefarea furnishingstatus  \n",
            "0              no             yes        2      yes        furnished  \n",
            "1              no             yes        3       no        furnished  \n",
            "2              no              no        2      yes   semi-furnished  \n",
            "3              no             yes        3      yes        furnished  \n",
            "4              no             yes        2       no        furnished  \n"
          ]
        }
      ]
    },
    {
      "cell_type": "code",
      "source": [
        "# Split into Train and Test\n",
        "# TODO: Split - 80% train, 20% test\n",
        "\n",
        "from sklearn.model_selection import train_test_split\n",
        "\n",
        "# Use 'price' as the target variable\n",
        "X = df.drop('price', axis=1)\n",
        "y = df['price']\n",
        "\n",
        "X_train, X_test, y_train, y_test = train_test_split(\n",
        "    X, y,\n",
        "    train_size=0.8,   #80% for train\n",
        "    test_size=0.2,    # 20% for test\n",
        "    random_state=42 # Added random state for reproducibility\n",
        ")\n",
        "\n",
        "print('Train size:',X_train.shape,'Test size:',X_test.shape)"
      ],
      "metadata": {
        "colab": {
          "base_uri": "https://localhost:8080/"
        },
        "id": "cEkzDX_Z04oj",
        "outputId": "4eb4f8bf-4c7f-41c4-8b48-88febbf7fe6a"
      },
      "execution_count": 21,
      "outputs": [
        {
          "output_type": "stream",
          "name": "stdout",
          "text": [
            "Train size: (436, 12) Test size: (109, 12)\n"
          ]
        }
      ]
    },
    {
      "cell_type": "code",
      "source": [
        "#Apply StandardScaler\n",
        "scaler = StandardScaler()\n",
        "\n",
        "# Separate features (X) and target (y) from the one-hot encoded dataframe\n",
        "X = df_numeric.drop('price', axis=1)\n",
        "y = df_numeric['price']\n",
        "\n",
        "# Split into Train and Test using the one-hot encoded data\n",
        "X_train, X_test, y_train, y_test = train_test_split(\n",
        "    X, y,\n",
        "    train_size=0.8,   #80% for train\n",
        "    test_size=0.2,    # 20% for test\n",
        "    random_state=42 # Added random state for reproducibility\n",
        ")\n",
        "\n",
        "X_train_scaled = scaler.fit_transform(X_train)\n",
        "X_test_scaled = scaler.transform(X_test)"
      ],
      "metadata": {
        "id": "RJg_AUzc04sC"
      },
      "execution_count": 32,
      "outputs": []
    },
    {
      "cell_type": "code",
      "source": [
        "#train and test model\n",
        "from sklearn.linear_model import LogisticRegression\n",
        "model = LogisticRegression(max_iter=1000)\n",
        "model.fit(X_train_scaled, y_train)\n",
        "print(\"Model trained!\")\n",
        "\n",
        "# Check accuracy on training data\n",
        "train_score = model.score(X_train_scaled, y_train)\n",
        "print(f\"Training accuracy: {train_score:.1%}\")\n",
        "\n",
        "# Check accuracy on test data\n",
        "test_score = model.score(X_test_scaled, y_test)\n",
        "print(f\"Test accuracy: {test_score:.1%}\")"
      ],
      "metadata": {
        "colab": {
          "base_uri": "https://localhost:8080/"
        },
        "id": "P9iTnFPi2ClO",
        "outputId": "ac5a53e7-817d-482c-bdcd-6ae72643919e"
      },
      "execution_count": 37,
      "outputs": [
        {
          "output_type": "stream",
          "name": "stdout",
          "text": [
            "Model trained!\n",
            "Training accuracy: 41.5%\n",
            "Test accuracy: 0.0%\n"
          ]
        }
      ]
    },
    {
      "cell_type": "code",
      "source": [
        "# New house details\n",
        "new_house = pd.DataFrame([{\n",
        "    \"area\": 5000,\n",
        "    \"bedrooms\": 3,\n",
        "    \"bathrooms\": 2,\n",
        "    \"stories\": 2,\n",
        "    \"mainroad\": 1,\n",
        "    \"guestroom\": 0,\n",
        "    \"basement\": 1,\n",
        "    \"hotwaterheating\": 0,\n",
        "    \"airconditioning\": 1,\n",
        "    \"parking\": 2,\n",
        "    \"prefarea\": 1,\n",
        "    \"furnishingstatus\": \"furnished\"\n",
        "}])\n",
        "\n",
        "new_house = pd.get_dummies(new_house, drop_first=True)\n",
        "\n",
        "new_house = new_house.reindex(columns=X.columns, fill_value=0)\n",
        "\n",
        "new_house_scaled = scaler.transform(new_house)\n",
        "\n",
        "# Predict price\n",
        "predicted_price = model.predict(new_house_scaled)\n",
        "print(\"Predicted Price:\", predicted_price[0])\n"
      ],
      "metadata": {
        "colab": {
          "base_uri": "https://localhost:8080/"
        },
        "id": "frRfvJV-2Ch1",
        "outputId": "243bcdfe-c150-4c22-fd13-0e40cdd6a8de"
      },
      "execution_count": 38,
      "outputs": [
        {
          "output_type": "stream",
          "name": "stdout",
          "text": [
            "Predicted Price: 3570000\n"
          ]
        }
      ]
    }
  ]
}